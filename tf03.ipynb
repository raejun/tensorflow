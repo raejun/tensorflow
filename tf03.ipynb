{
 "cells": [
  {
   "cell_type": "code",
   "execution_count": 1,
   "metadata": {
    "ExecuteTime": {
     "end_time": "2019-01-03T03:44:22.286063Z",
     "start_time": "2019-01-03T03:44:16.465067Z"
    }
   },
   "outputs": [],
   "source": [
    "import tensorflow as tf"
   ]
  },
  {
   "cell_type": "code",
   "execution_count": 2,
   "metadata": {
    "ExecuteTime": {
     "end_time": "2019-01-03T03:45:08.902011Z",
     "start_time": "2019-01-03T03:45:08.895012Z"
    }
   },
   "outputs": [],
   "source": [
    "x_data = [1, 2, 3]\n",
    "y_data = [1, 2, 3]"
   ]
  },
  {
   "cell_type": "code",
   "execution_count": 3,
   "metadata": {
    "ExecuteTime": {
     "end_time": "2019-01-03T03:48:20.244311Z",
     "start_time": "2019-01-03T03:48:20.167312Z"
    }
   },
   "outputs": [],
   "source": [
    "W = tf.Variable(tf.random_uniform([1], -1.0, 1.0))\n",
    "b = tf.Variable(tf.random_uniform([1], -1.0, 1.0))"
   ]
  },
  {
   "cell_type": "code",
   "execution_count": 4,
   "metadata": {
    "ExecuteTime": {
     "end_time": "2019-01-03T03:50:14.086266Z",
     "start_time": "2019-01-03T03:50:14.072263Z"
    }
   },
   "outputs": [
    {
     "name": "stdout",
     "output_type": "stream",
     "text": [
      "Tensor(\"X:0\", dtype=float32)\n",
      "Tensor(\"Y:0\", dtype=float32)\n"
     ]
    }
   ],
   "source": [
    "X = tf.placeholder(tf.float32, name='X')\n",
    "Y = tf.placeholder(tf.float32, name='Y')\n",
    "print(X)\n",
    "print(Y)"
   ]
  },
  {
   "cell_type": "code",
   "execution_count": 5,
   "metadata": {
    "ExecuteTime": {
     "end_time": "2019-01-03T03:52:32.794369Z",
     "start_time": "2019-01-03T03:52:32.784368Z"
    }
   },
   "outputs": [],
   "source": [
    "hypothesis = W * X + b"
   ]
  },
  {
   "cell_type": "code",
   "execution_count": 6,
   "metadata": {
    "ExecuteTime": {
     "end_time": "2019-01-03T03:55:19.786302Z",
     "start_time": "2019-01-03T03:55:19.760306Z"
    }
   },
   "outputs": [],
   "source": [
    "cost = tf.reduce_mean(tf.square(hypothesis - Y))  ## 비용함수"
   ]
  },
  {
   "cell_type": "code",
   "execution_count": 7,
   "metadata": {
    "ExecuteTime": {
     "end_time": "2019-01-03T03:56:52.366570Z",
     "start_time": "2019-01-03T03:56:52.360569Z"
    }
   },
   "outputs": [],
   "source": [
    "optimizer = tf.train.GradientDescentOptimizer(learning_rate=0.1)  ## optimizer 준비"
   ]
  },
  {
   "cell_type": "code",
   "execution_count": 8,
   "metadata": {
    "ExecuteTime": {
     "end_time": "2019-01-03T03:57:59.713351Z",
     "start_time": "2019-01-03T03:57:59.545361Z"
    }
   },
   "outputs": [],
   "source": [
    "train_op = optimizer.minimize(cost)"
   ]
  },
  {
   "cell_type": "code",
   "execution_count": 9,
   "metadata": {
    "ExecuteTime": {
     "end_time": "2019-01-03T04:06:50.531879Z",
     "start_time": "2019-01-03T04:06:49.748883Z"
    }
   },
   "outputs": [
    {
     "name": "stdout",
     "output_type": "stream",
     "text": [
      "step= 0 cost_val= 1.0187318 W= [0.7105377] b= [0.769382]\n",
      "step= 1 cost_val= 0.09213296 W= [0.67294973] b= [0.7312905]\n",
      "step= 2 cost_val= 0.07726621 W= [0.68568045] b= [0.7158525]\n",
      "step= 3 cost_val= 0.073470674 W= [0.6927043] b= [0.6984098]\n",
      "step= 4 cost_val= 0.06997927 W= [0.70014966] b= [0.6816461]\n",
      "step= 5 cost_val= 0.06665518 W= [0.7073515] b= [0.66525704]\n",
      "step= 6 cost_val= 0.06348904 W= [0.7143873] b= [0.64926505]\n",
      "step= 7 cost_val= 0.060473282 W= [0.72125316] b= [0.63365716]\n",
      "step= 8 cost_val= 0.057600755 W= [0.727954] b= [0.6184245]\n",
      "step= 9 cost_val= 0.054864675 W= [0.7344938] b= [0.603558]\n",
      "step= 10 cost_val= 0.05225854 W= [0.7408764] b= [0.58904886]\n",
      "step= 11 cost_val= 0.04977626 W= [0.74710554] b= [0.5748885]\n",
      "step= 12 cost_val= 0.047411844 W= [0.753185] b= [0.5610686]\n",
      "step= 13 cost_val= 0.045159746 W= [0.75911826] b= [0.5475809]\n",
      "step= 14 cost_val= 0.043014605 W= [0.76490885] b= [0.5344174]\n",
      "step= 15 cost_val= 0.040971365 W= [0.77056026] b= [0.5215704]\n",
      "step= 16 cost_val= 0.03902522 W= [0.77607584] b= [0.5090322]\n",
      "step= 17 cost_val= 0.037171494 W= [0.7814588] b= [0.49679542]\n",
      "step= 18 cost_val= 0.03540583 W= [0.78671247] b= [0.48485282]\n",
      "step= 19 cost_val= 0.03372402 W= [0.79183966] b= [0.47319725]\n",
      "step= 20 cost_val= 0.0321221 W= [0.7968437] b= [0.4618219]\n",
      "step= 21 cost_val= 0.030596256 W= [0.8017275] b= [0.45072004]\n",
      "step= 22 cost_val= 0.029142922 W= [0.8064938] b= [0.43988505]\n",
      "step= 23 cost_val= 0.027758606 W= [0.81114554] b= [0.4293105]\n",
      "step= 24 cost_val= 0.026440067 W= [0.81568545] b= [0.41899016]\n",
      "step= 25 cost_val= 0.025184155 W= [0.8201163] b= [0.40891796]\n",
      "step= 26 cost_val= 0.023987869 W= [0.8244406] b= [0.39908788]\n",
      "step= 27 cost_val= 0.022848427 W= [0.82866085] b= [0.38949406]\n",
      "step= 28 cost_val= 0.02176314 W= [0.83277977] b= [0.38013092]\n",
      "step= 29 cost_val= 0.020729356 W= [0.8367996] b= [0.37099284]\n",
      "step= 30 cost_val= 0.019744702 W= [0.8407228] b= [0.3620744]\n",
      "step= 31 cost_val= 0.018806806 W= [0.84455174] b= [0.3533704]\n",
      "step= 32 cost_val= 0.017913468 W= [0.84828866] b= [0.34487563]\n",
      "step= 33 cost_val= 0.017062569 W= [0.8519356] b= [0.33658504]\n",
      "step= 34 cost_val= 0.016252084 W= [0.85549504] b= [0.32849377]\n",
      "step= 35 cost_val= 0.015480087 W= [0.8589688] b= [0.320597]\n",
      "step= 36 cost_val= 0.014744782 W= [0.8623591] b= [0.31289008]\n",
      "step= 37 cost_val= 0.0140443975 W= [0.8656679] b= [0.30536842]\n",
      "step= 38 cost_val= 0.013377263 W= [0.86889714] b= [0.2980276]\n",
      "step= 39 cost_val= 0.0127418535 W= [0.8720488] b= [0.29086325]\n",
      "step= 40 cost_val= 0.012136597 W= [0.87512463] b= [0.28387108]\n",
      "step= 41 cost_val= 0.011560105 W= [0.87812656] b= [0.277047]\n",
      "step= 42 cost_val= 0.011010996 W= [0.8810563] b= [0.270387]\n",
      "step= 43 cost_val= 0.010487955 W= [0.88391566] b= [0.26388708]\n",
      "step= 44 cost_val= 0.009989766 W= [0.8867062] b= [0.25754339]\n",
      "step= 45 cost_val= 0.009515252 W= [0.8894297] b= [0.25135222]\n",
      "step= 46 cost_val= 0.009063258 W= [0.8920877] b= [0.24530989]\n",
      "step= 47 cost_val= 0.008632755 W= [0.89468193] b= [0.23941284]\n",
      "step= 48 cost_val= 0.008222693 W= [0.8972137] b= [0.23365751]\n",
      "step= 49 cost_val= 0.007832105 W= [0.89968455] b= [0.22804052]\n",
      "step= 50 cost_val= 0.0074600815 W= [0.9020961] b= [0.22255859]\n",
      "step= 51 cost_val= 0.0071057207 W= [0.90444964] b= [0.21720843]\n",
      "step= 52 cost_val= 0.0067682005 W= [0.9067466] b= [0.21198688]\n",
      "step= 53 cost_val= 0.006446703 W= [0.9089884] b= [0.20689087]\n",
      "step= 54 cost_val= 0.0061404817 W= [0.9111762] b= [0.20191732]\n",
      "step= 55 cost_val= 0.005848793 W= [0.9133115] b= [0.19706336]\n",
      "step= 56 cost_val= 0.00557097 W= [0.9153954] b= [0.19232608]\n",
      "step= 57 cost_val= 0.005306344 W= [0.91742927] b= [0.18770272]\n",
      "step= 58 cost_val= 0.0050542946 W= [0.91941416] b= [0.18319046]\n",
      "step= 59 cost_val= 0.0048142136 W= [0.92135143] b= [0.1787867]\n",
      "step= 60 cost_val= 0.004585535 W= [0.92324203] b= [0.17448877]\n",
      "step= 61 cost_val= 0.0043677143 W= [0.92508733] b= [0.17029421]\n",
      "step= 62 cost_val= 0.0041602463 W= [0.92688817] b= [0.16620043]\n",
      "step= 63 cost_val= 0.0039626374 W= [0.92864573] b= [0.16220507]\n",
      "step= 64 cost_val= 0.003774402 W= [0.93036103] b= [0.15830576]\n",
      "step= 65 cost_val= 0.0035951098 W= [0.9320351] b= [0.1545002]\n",
      "step= 66 cost_val= 0.0034243427 W= [0.9336689] b= [0.1507861]\n",
      "step= 67 cost_val= 0.003261681 W= [0.93526345] b= [0.14716132]\n",
      "step= 68 cost_val= 0.003106754 W= [0.9368197] b= [0.14362368]\n",
      "step= 69 cost_val= 0.0029591809 W= [0.9383385] b= [0.14017108]\n",
      "step= 70 cost_val= 0.002818617 W= [0.9398208] b= [0.13680147]\n",
      "step= 71 cost_val= 0.0026847261 W= [0.9412675] b= [0.13351285]\n",
      "step= 72 cost_val= 0.0025572025 W= [0.94267935] b= [0.13030328]\n",
      "step= 73 cost_val= 0.0024357364 W= [0.9440573] b= [0.12717088]\n",
      "step= 74 cost_val= 0.0023200365 W= [0.94540215] b= [0.12411378]\n",
      "step= 75 cost_val= 0.0022098331 W= [0.94671464] b= [0.12113017]\n",
      "step= 76 cost_val= 0.0021048656 W= [0.94799554] b= [0.11821827]\n",
      "step= 77 cost_val= 0.0020048872 W= [0.94924575] b= [0.11537641]\n",
      "step= 78 cost_val= 0.0019096447 W= [0.9504658] b= [0.11260282]\n",
      "step= 79 cost_val= 0.0018189377 W= [0.9516566] b= [0.10989594]\n",
      "step= 80 cost_val= 0.001732538 W= [0.95281875] b= [0.10725413]\n",
      "step= 81 cost_val= 0.0016502459 W= [0.95395297] b= [0.10467582]\n",
      "step= 82 cost_val= 0.0015718568 W= [0.9550599] b= [0.10215947]\n",
      "step= 83 cost_val= 0.0014971923 W= [0.9561402] b= [0.09970362]\n",
      "step= 84 cost_val= 0.0014260741 W= [0.95719457] b= [0.09730682]\n",
      "step= 85 cost_val= 0.0013583343 W= [0.9582236] b= [0.09496764]\n",
      "step= 86 cost_val= 0.0012938096 W= [0.95922786] b= [0.09268469]\n",
      "step= 87 cost_val= 0.0012323508 W= [0.96020794] b= [0.0904566]\n",
      "step= 88 cost_val= 0.0011738177 W= [0.9611646] b= [0.08828212]\n",
      "step= 89 cost_val= 0.0011180566 W= [0.9620981] b= [0.08615985]\n",
      "step= 90 cost_val= 0.0010649484 W= [0.96300924] b= [0.08408862]\n",
      "step= 91 cost_val= 0.0010143653 W= [0.96389854] b= [0.08206721]\n",
      "step= 92 cost_val= 0.000966184 W= [0.9647664] b= [0.08009435]\n",
      "step= 93 cost_val= 0.00092028826 W= [0.96561337] b= [0.07816894]\n",
      "step= 94 cost_val= 0.00087657454 W= [0.96644] b= [0.07628981]\n",
      "step= 95 cost_val= 0.0008349324 W= [0.9672467] b= [0.07445583]\n",
      "step= 96 cost_val= 0.0007952761 W= [0.96803415] b= [0.07266599]\n",
      "step= 97 cost_val= 0.0007575022 W= [0.9688026] b= [0.07091914]\n",
      "step= 98 cost_val= 0.0007215161 W= [0.9695525] b= [0.06921429]\n",
      "step= 99 cost_val= 0.0006872449 W= [0.9702844] b= [0.06755041]\n",
      "X:5, Y: [4.918972]\n",
      "X:2.5, Y: [2.4932613]\n"
     ]
    }
   ],
   "source": [
    "with tf.Session() as sess:\n",
    "    sess.run(tf.global_variables_initializer())  ## 변수 초기화\n",
    "    # 100번 훈련\n",
    "    for step in range(100):\n",
    "        _, cost_val = sess.run([train_op, cost], feed_dict={X: x_data, Y: y_data})\n",
    "        print('step=', step, 'cost_val=', cost_val, 'W=', sess.run(W), 'b=', sess.run(b))\n",
    "    # 훈련 완료 후 테스트 데이터로 예측값 확인\n",
    "    print('X:5, Y:', sess.run(hypothesis, feed_dict={X:5}))  # 5에 가까운 결과\n",
    "    print('X:2.5, Y:', sess.run(hypothesis, feed_dict={X:2.5})) # 2.5에 가까운 결과"
   ]
  },
  {
   "cell_type": "code",
   "execution_count": null,
   "metadata": {},
   "outputs": [],
   "source": []
  }
 ],
 "metadata": {
  "kernelspec": {
   "display_name": "Python 3",
   "language": "python",
   "name": "python3"
  },
  "language_info": {
   "codemirror_mode": {
    "name": "ipython",
    "version": 3
   },
   "file_extension": ".py",
   "mimetype": "text/x-python",
   "name": "python",
   "nbconvert_exporter": "python",
   "pygments_lexer": "ipython3",
   "version": "3.6.7"
  },
  "varInspector": {
   "cols": {
    "lenName": 16,
    "lenType": 16,
    "lenVar": 40
   },
   "kernels_config": {
    "python": {
     "delete_cmd_postfix": "",
     "delete_cmd_prefix": "del ",
     "library": "var_list.py",
     "varRefreshCmd": "print(var_dic_list())"
    },
    "r": {
     "delete_cmd_postfix": ") ",
     "delete_cmd_prefix": "rm(",
     "library": "var_list.r",
     "varRefreshCmd": "cat(var_dic_list()) "
    }
   },
   "types_to_exclude": [
    "module",
    "function",
    "builtin_function_or_method",
    "instance",
    "_Feature"
   ],
   "window_display": false
  }
 },
 "nbformat": 4,
 "nbformat_minor": 2
}
