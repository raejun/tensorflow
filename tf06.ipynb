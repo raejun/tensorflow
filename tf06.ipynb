{
 "cells": [
  {
   "cell_type": "code",
   "execution_count": null,
   "metadata": {
    "ExecuteTime": {
     "end_time": "2019-01-04T03:52:34.510022Z",
     "start_time": "2019-01-04T03:52:27.745021Z"
    }
   },
   "outputs": [],
   "source": [
    "%matplotlib inline\n",
    "import matplotlib.pyplot as plt\n",
    "import numpy as np\n",
    "from tqdm import trange, tqdm_notebook\n",
    "import tensorflow as tf"
   ]
  },
  {
   "cell_type": "code",
   "execution_count": null,
   "metadata": {
    "ExecuteTime": {
     "end_time": "2019-01-04T03:52:34.881019Z",
     "start_time": "2019-01-04T03:52:34.540024Z"
    }
   },
   "outputs": [],
   "source": [
    "num_points = 5000\n",
    "my_data = []\n",
    "for i in range(num_points):\n",
    "    x1 = np.random.normal(0, 1)\n",
    "    y1 = np.sin(x1) + np.random.normal(0, 0.1)\n",
    "    my_data.append([x1,y1])\n",
    "\n",
    "x_data = [ v[0] for v in my_data ]\n",
    "y_data = [ v[1] for v in my_data ]\n",
    "plt.plot(x_data, y_data, 'ro')\n",
    "plt.show()"
   ]
  },
  {
   "cell_type": "code",
   "execution_count": null,
   "metadata": {
    "ExecuteTime": {
     "end_time": "2019-01-04T03:52:34.915020Z",
     "start_time": "2019-01-04T03:52:34.889020Z"
    }
   },
   "outputs": [],
   "source": [
    "print(np.shape(x_data))\n",
    "print(np.ndim(x_data))"
   ]
  },
  {
   "cell_type": "code",
   "execution_count": null,
   "metadata": {
    "ExecuteTime": {
     "end_time": "2019-01-04T03:52:35.033027Z",
     "start_time": "2019-01-04T03:52:34.923021Z"
    }
   },
   "outputs": [],
   "source": [
    "_x_data = tf.reshape(x_data, [len(x_data), 1])\n",
    "print(_x_data)"
   ]
  },
  {
   "cell_type": "code",
   "execution_count": null,
   "metadata": {
    "ExecuteTime": {
     "start_time": "2019-01-04T03:52:27.831Z"
    }
   },
   "outputs": [],
   "source": [
    "__x_data = tf.expand_dims(x_data, 1)\n",
    "print(__x_data)"
   ]
  },
  {
   "cell_type": "code",
   "execution_count": null,
   "metadata": {
    "ExecuteTime": {
     "start_time": "2019-01-04T03:52:27.842Z"
    }
   },
   "outputs": [],
   "source": [
    "x_data = np.expand_dims(x_data, 1)\n",
    "y_data = np.expand_dims(y_data, 1)"
   ]
  },
  {
   "cell_type": "code",
   "execution_count": null,
   "metadata": {
    "ExecuteTime": {
     "start_time": "2019-01-04T03:52:27.855Z"
    }
   },
   "outputs": [],
   "source": [
    "input_data = tf.placeholder(tf.float32, shape=[None,1])\n",
    "output_data = tf.placeholder(tf.float32, shape=[None,1])"
   ]
  },
  {
   "cell_type": "code",
   "execution_count": null,
   "metadata": {
    "ExecuteTime": {
     "start_time": "2019-01-04T03:52:27.870Z"
    }
   },
   "outputs": [],
   "source": [
    "W1 = tf.Variable(tf.random_uniform([1, 5], -1.0, 1.0))\n",
    "W2 = tf.Variable(tf.random_uniform([5, 3], -1.0, 1.0))\n",
    "W_out = tf.Variable(tf.random_uniform([3, 1], -1.0, 1.0))"
   ]
  },
  {
   "cell_type": "code",
   "execution_count": null,
   "metadata": {
    "ExecuteTime": {
     "start_time": "2019-01-04T03:52:27.883Z"
    }
   },
   "outputs": [],
   "source": [
    "hidden1 = tf.nn.sigmoid(tf.matmul(input_data, W1))\n",
    "hidden2 = tf.nn.sigmoid(tf.matmul(hidden1, W2))\n",
    "output = tf.matmul(hidden2, W_out)"
   ]
  },
  {
   "cell_type": "code",
   "execution_count": null,
   "metadata": {
    "ExecuteTime": {
     "start_time": "2019-01-04T03:52:27.896Z"
    }
   },
   "outputs": [],
   "source": [
    "loss = tf.reduce_mean(tf.square(output - output_data))"
   ]
  },
  {
   "cell_type": "code",
   "execution_count": null,
   "metadata": {
    "ExecuteTime": {
     "start_time": "2019-01-04T03:52:27.910Z"
    }
   },
   "outputs": [],
   "source": [
    "global_step = tf.Variable(0, trainable=False)"
   ]
  },
  {
   "cell_type": "code",
   "execution_count": null,
   "metadata": {
    "ExecuteTime": {
     "start_time": "2019-01-04T03:52:27.924Z"
    }
   },
   "outputs": [],
   "source": [
    "optimizer = tf.train.AdamOptimizer(0.5)\n",
    "train = optimizer.minimize(loss, global_step=global_step)"
   ]
  },
  {
   "cell_type": "code",
   "execution_count": null,
   "metadata": {
    "ExecuteTime": {
     "start_time": "2019-01-04T03:52:27.940Z"
    }
   },
   "outputs": [],
   "source": [
    "sess = tf.Session()\n",
    "sess.run(tf.global_variables_initializer())"
   ]
  },
  {
   "cell_type": "code",
   "execution_count": null,
   "metadata": {
    "ExecuteTime": {
     "start_time": "2019-01-04T03:52:27.954Z"
    }
   },
   "outputs": [],
   "source": [
    "writer = tf.summary.FileWriter('./mini_graph', sess.graph)\n",
    "tf.summary.scalar('loss', loss)\n",
    "tf.summary.histogram('histogram_loss', loss)\n",
    "summary_op = tf.summary.merge_all()"
   ]
  },
  {
   "cell_type": "code",
   "execution_count": null,
   "metadata": {
    "ExecuteTime": {
     "start_time": "2019-01-04T03:52:27.966Z"
    }
   },
   "outputs": [],
   "source": [
    "def shuffle_data(x_train, y_train):\n",
    "    temp_index = np.arange(len(x_train))\n",
    "    np.random.shuffle(temp_index)\n",
    "    x_temp = np.zeros(x_train.shape)\n",
    "    y_temp = np.zeros(y_train.shape)\n",
    "    x_temp = x_train[temp_index]\n",
    "    y_temp = y_train[temp_index]\n",
    "    return x_temp, y_temp"
   ]
  },
  {
   "cell_type": "code",
   "execution_count": null,
   "metadata": {
    "ExecuteTime": {
     "start_time": "2019-01-04T03:52:27.985Z"
    }
   },
   "outputs": [],
   "source": [
    "%%time\n",
    "BATCH_SIZE = 1000\n",
    "BATCH_NUM = int(len(x_data)/BATCH_SIZE)\n",
    "\n",
    "#for step in range(5000):\n",
    "for step in tqdm_notebook(range(5000), desc='1st loop'):\n",
    "    index = 0\n",
    "    x_data, y_data = shuffle_data(x_data, y_data)\n",
    "    for batch_iter in range(BATCH_NUM-1):\n",
    "    #for batch_iter in tqdm_notebook(range(BATCH_NUM-1), desc='2nd loop', leave=False):\n",
    "        feed_dict = {input_data:x_data[index:index+BATCH_SIZE], output_data:y_data[index:index+BATCH_SIZE]}\n",
    "        _, summary = sess.run([train, summary_op], feed_dict=feed_dict)\n",
    "        writer.add_summary(summary, global_step=index)\n",
    "        index += BATCH_SIZE"
   ]
  },
  {
   "cell_type": "code",
   "execution_count": null,
   "metadata": {
    "ExecuteTime": {
     "start_time": "2019-01-04T03:52:27.999Z"
    }
   },
   "outputs": [],
   "source": [
    "plt.plot(x_data, y_data, 'ro')\n",
    "plt.plot(x_data, sess.run(output, feed_dict={input_data:x_data}), 'bo')\n",
    "plt.xlabel('x')\n",
    "plt.xlim(-4, 3)\n",
    "plt.ylabel('y')\n",
    "plt.ylim(-1.5, 1.5)\n",
    "plt.show()"
   ]
  },
  {
   "cell_type": "code",
   "execution_count": null,
   "metadata": {
    "ExecuteTime": {
     "start_time": "2019-01-04T03:52:28.009Z"
    }
   },
   "outputs": [],
   "source": [
    "sess.close()"
   ]
  },
  {
   "cell_type": "code",
   "execution_count": null,
   "metadata": {
    "ExecuteTime": {
     "start_time": "2019-01-04T03:52:28.018Z"
    }
   },
   "outputs": [],
   "source": [
    "## 텐서보드 실행방법\n",
    "## tensorboard --logdir=로그가_저장된_폴더\n",
    "## 주의 : tensorboard --logdir='mini_graph' <-- 처럼 따옴표로 묶으면 안됨! 에러!( 예: 'mini_graph')\n",
    "## tensorboard --logdir=mini_graph\n",
    "\n",
    "## 브라우저로 http://localhost:6006 으로 접속!"
   ]
  },
  {
   "cell_type": "code",
   "execution_count": null,
   "metadata": {
    "ExecuteTime": {
     "start_time": "2019-01-04T03:52:28.029Z"
    }
   },
   "outputs": [],
   "source": [
    "# end"
   ]
  },
  {
   "cell_type": "code",
   "execution_count": null,
   "metadata": {},
   "outputs": [],
   "source": []
  },
  {
   "cell_type": "code",
   "execution_count": null,
   "metadata": {},
   "outputs": [],
   "source": []
  },
  {
   "cell_type": "code",
   "execution_count": null,
   "metadata": {},
   "outputs": [],
   "source": []
  },
  {
   "cell_type": "code",
   "execution_count": null,
   "metadata": {},
   "outputs": [],
   "source": []
  },
  {
   "cell_type": "code",
   "execution_count": null,
   "metadata": {},
   "outputs": [],
   "source": []
  },
  {
   "cell_type": "code",
   "execution_count": null,
   "metadata": {},
   "outputs": [],
   "source": []
  }
 ],
 "metadata": {
  "kernelspec": {
   "display_name": "Python 3",
   "language": "python",
   "name": "python3"
  },
  "language_info": {
   "codemirror_mode": {
    "name": "ipython",
    "version": 3
   },
   "file_extension": ".py",
   "mimetype": "text/x-python",
   "name": "python",
   "nbconvert_exporter": "python",
   "pygments_lexer": "ipython3",
   "version": "3.6.7"
  },
  "varInspector": {
   "cols": {
    "lenName": 16,
    "lenType": 16,
    "lenVar": 40
   },
   "kernels_config": {
    "python": {
     "delete_cmd_postfix": "",
     "delete_cmd_prefix": "del ",
     "library": "var_list.py",
     "varRefreshCmd": "print(var_dic_list())"
    },
    "r": {
     "delete_cmd_postfix": ") ",
     "delete_cmd_prefix": "rm(",
     "library": "var_list.r",
     "varRefreshCmd": "cat(var_dic_list()) "
    }
   },
   "types_to_exclude": [
    "module",
    "function",
    "builtin_function_or_method",
    "instance",
    "_Feature"
   ],
   "window_display": false
  }
 },
 "nbformat": 4,
 "nbformat_minor": 2
}
