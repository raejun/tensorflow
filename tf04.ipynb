{
 "cells": [
  {
   "cell_type": "code",
   "execution_count": 1,
   "metadata": {
    "ExecuteTime": {
     "end_time": "2019-01-03T05:19:14.503047Z",
     "start_time": "2019-01-03T05:19:08.940051Z"
    }
   },
   "outputs": [],
   "source": [
    "import tensorflow as tf\n",
    "import numpy as np"
   ]
  },
  {
   "cell_type": "code",
   "execution_count": 2,
   "metadata": {
    "ExecuteTime": {
     "end_time": "2019-01-03T05:19:14.568049Z",
     "start_time": "2019-01-03T05:19:14.532047Z"
    }
   },
   "outputs": [
    {
     "data": {
      "text/plain": [
       "array([[0, 0],\n",
       "       [1, 0],\n",
       "       [1, 1],\n",
       "       [0, 0],\n",
       "       [0, 0],\n",
       "       [0, 1]])"
      ]
     },
     "execution_count": 2,
     "metadata": {},
     "output_type": "execute_result"
    }
   ],
   "source": [
    "x_data = np.array([ [0,0], [1,0], [1,1], [0,0], [0,0], [0,1] ]) ## [털, 날개]\n",
    "x_data"
   ]
  },
  {
   "cell_type": "code",
   "execution_count": 3,
   "metadata": {
    "ExecuteTime": {
     "end_time": "2019-01-03T05:19:14.618048Z",
     "start_time": "2019-01-03T05:19:14.573045Z"
    }
   },
   "outputs": [
    {
     "data": {
      "text/plain": [
       "array([[1, 0, 0],\n",
       "       [0, 1, 0],\n",
       "       [0, 0, 1],\n",
       "       [1, 0, 0],\n",
       "       [1, 0, 0],\n",
       "       [0, 0, 1]])"
      ]
     },
     "execution_count": 3,
     "metadata": {},
     "output_type": "execute_result"
    }
   ],
   "source": [
    "y_data = np.array([ [1,0,0], [0,1,0], [0,0,1], [1,0,0], [1,0,0], [0,0,1] ])  ## [기타, 포유류, 조류]\n",
    "y_data"
   ]
  },
  {
   "cell_type": "code",
   "execution_count": 4,
   "metadata": {
    "ExecuteTime": {
     "end_time": "2019-01-03T05:19:14.704046Z",
     "start_time": "2019-01-03T05:19:14.628045Z"
    }
   },
   "outputs": [],
   "source": [
    "X = tf.placeholder(tf.float32)\n",
    "Y = tf.placeholder(tf.float32)"
   ]
  },
  {
   "cell_type": "code",
   "execution_count": 5,
   "metadata": {
    "ExecuteTime": {
     "end_time": "2019-01-03T05:19:14.855045Z",
     "start_time": "2019-01-03T05:19:14.732048Z"
    }
   },
   "outputs": [],
   "source": [
    "W = tf.Variable(tf.random_uniform([2,3], -1.0, 1.0))"
   ]
  },
  {
   "cell_type": "code",
   "execution_count": 6,
   "metadata": {
    "ExecuteTime": {
     "end_time": "2019-01-03T05:19:14.912046Z",
     "start_time": "2019-01-03T05:19:14.869045Z"
    }
   },
   "outputs": [],
   "source": [
    "b = tf.Variable(tf.zeros([3]))"
   ]
  },
  {
   "cell_type": "code",
   "execution_count": 7,
   "metadata": {
    "ExecuteTime": {
     "end_time": "2019-01-03T05:19:14.938045Z",
     "start_time": "2019-01-03T05:19:14.921050Z"
    }
   },
   "outputs": [],
   "source": [
    "L = tf.add(tf.matmul(X, W), b)  # X * W + b"
   ]
  },
  {
   "cell_type": "code",
   "execution_count": 8,
   "metadata": {
    "ExecuteTime": {
     "end_time": "2019-01-03T05:19:14.974046Z",
     "start_time": "2019-01-03T05:19:14.952050Z"
    }
   },
   "outputs": [],
   "source": [
    "L = tf.nn.relu(L)"
   ]
  },
  {
   "cell_type": "code",
   "execution_count": 9,
   "metadata": {
    "ExecuteTime": {
     "end_time": "2019-01-03T05:19:15.011046Z",
     "start_time": "2019-01-03T05:19:14.979048Z"
    }
   },
   "outputs": [],
   "source": [
    "model = tf.nn.softmax(L)"
   ]
  },
  {
   "cell_type": "code",
   "execution_count": 10,
   "metadata": {
    "ExecuteTime": {
     "end_time": "2019-01-03T05:19:15.071043Z",
     "start_time": "2019-01-03T05:19:15.019046Z"
    }
   },
   "outputs": [],
   "source": [
    "cost = tf.reduce_mean(-tf.reduce_sum(Y * tf.log(model), axis=1))  ## 비용함수(크로스 엔트로피)"
   ]
  },
  {
   "cell_type": "code",
   "execution_count": 11,
   "metadata": {
    "ExecuteTime": {
     "end_time": "2019-01-03T05:19:15.086048Z",
     "start_time": "2019-01-03T05:19:15.079049Z"
    }
   },
   "outputs": [],
   "source": [
    "optimizer = tf.train.GradientDescentOptimizer(learning_rate=0.01)"
   ]
  },
  {
   "cell_type": "code",
   "execution_count": 12,
   "metadata": {
    "ExecuteTime": {
     "end_time": "2019-01-03T05:19:15.254044Z",
     "start_time": "2019-01-03T05:19:15.091049Z"
    }
   },
   "outputs": [],
   "source": [
    "train_op = optimizer.minimize(cost)"
   ]
  },
  {
   "cell_type": "code",
   "execution_count": 13,
   "metadata": {
    "ExecuteTime": {
     "end_time": "2019-01-03T05:19:15.336043Z",
     "start_time": "2019-01-03T05:19:15.256047Z"
    }
   },
   "outputs": [],
   "source": [
    "sess = tf.Session()\n",
    "sess.run(tf.global_variables_initializer())"
   ]
  },
  {
   "cell_type": "code",
   "execution_count": 14,
   "metadata": {
    "ExecuteTime": {
     "end_time": "2019-01-03T05:19:16.657050Z",
     "start_time": "2019-01-03T05:19:15.338047Z"
    }
   },
   "outputs": [
    {
     "name": "stdout",
     "output_type": "stream",
     "text": [
      "step= 10 cost= 1.132533\n",
      "step= 20 cost= 1.1168522\n",
      "step= 30 cost= 1.1019144\n",
      "step= 40 cost= 1.0876883\n",
      "step= 50 cost= 1.0741198\n",
      "step= 60 cost= 1.0611681\n",
      "step= 70 cost= 1.048776\n",
      "step= 80 cost= 1.0369431\n",
      "step= 90 cost= 1.0256168\n",
      "step= 100 cost= 1.0147489\n",
      "step= 110 cost= 1.00434\n",
      "step= 120 cost= 0.99433285\n",
      "step= 130 cost= 0.9847283\n",
      "step= 140 cost= 0.97547525\n",
      "step= 150 cost= 0.9666216\n",
      "step= 160 cost= 0.9596084\n",
      "step= 170 cost= 0.9529465\n",
      "step= 180 cost= 0.9465537\n",
      "step= 190 cost= 0.94029504\n",
      "step= 200 cost= 0.93431425\n",
      "step= 210 cost= 0.928467\n",
      "step= 220 cost= 0.92330265\n",
      "step= 230 cost= 0.91833615\n",
      "step= 240 cost= 0.91355103\n",
      "step= 250 cost= 0.90885466\n",
      "step= 260 cost= 0.9042985\n",
      "step= 270 cost= 0.8998669\n",
      "step= 280 cost= 0.8956472\n",
      "step= 290 cost= 0.89153767\n",
      "step= 300 cost= 0.88753223\n",
      "step= 310 cost= 0.8836538\n",
      "step= 320 cost= 0.87985706\n",
      "step= 330 cost= 0.8761285\n",
      "step= 340 cost= 0.87259334\n",
      "step= 350 cost= 0.8690408\n",
      "step= 360 cost= 0.8657317\n",
      "step= 370 cost= 0.8630522\n",
      "step= 380 cost= 0.8603997\n",
      "step= 390 cost= 0.85780716\n",
      "step= 400 cost= 0.85527444\n",
      "step= 410 cost= 0.852789\n",
      "step= 420 cost= 0.8503614\n",
      "step= 430 cost= 0.8479846\n",
      "step= 440 cost= 0.84565\n",
      "step= 450 cost= 0.8432846\n",
      "step= 460 cost= 0.8410165\n",
      "step= 470 cost= 0.8387882\n",
      "step= 480 cost= 0.8365612\n",
      "step= 490 cost= 0.83440024\n",
      "step= 500 cost= 0.83227986\n",
      "step= 510 cost= 0.83014107\n",
      "step= 520 cost= 0.82808256\n",
      "step= 530 cost= 0.8260769\n",
      "step= 540 cost= 0.8240804\n",
      "step= 550 cost= 0.82209635\n",
      "step= 560 cost= 0.82014865\n",
      "step= 570 cost= 0.8182358\n",
      "step= 580 cost= 0.8163567\n",
      "step= 590 cost= 0.81448597\n",
      "step= 600 cost= 0.8126206\n",
      "step= 610 cost= 0.81080914\n",
      "step= 620 cost= 0.80914086\n",
      "step= 630 cost= 0.8075015\n",
      "step= 640 cost= 0.80584794\n",
      "step= 650 cost= 0.8042867\n",
      "step= 660 cost= 0.8026519\n",
      "step= 670 cost= 0.80113196\n",
      "step= 680 cost= 0.79955006\n",
      "step= 690 cost= 0.79809046\n",
      "step= 700 cost= 0.7965572\n",
      "step= 710 cost= 0.7950861\n",
      "step= 720 cost= 0.7936469\n",
      "step= 730 cost= 0.7921717\n",
      "step= 740 cost= 0.79070455\n",
      "step= 750 cost= 0.78930813\n",
      "step= 760 cost= 0.78791696\n",
      "step= 770 cost= 0.78650683\n",
      "step= 780 cost= 0.7851148\n",
      "step= 790 cost= 0.7837408\n",
      "step= 800 cost= 0.7823846\n",
      "step= 810 cost= 0.78104544\n",
      "step= 820 cost= 0.77972317\n",
      "step= 830 cost= 0.7784175\n",
      "step= 840 cost= 0.7771282\n",
      "step= 850 cost= 0.7758546\n",
      "step= 860 cost= 0.7745912\n",
      "step= 870 cost= 0.77330655\n",
      "step= 880 cost= 0.7720649\n",
      "step= 890 cost= 0.7708617\n",
      "step= 900 cost= 0.76967174\n",
      "step= 910 cost= 0.7684478\n",
      "step= 920 cost= 0.76725715\n",
      "step= 930 cost= 0.7661068\n",
      "step= 940 cost= 0.7649169\n",
      "step= 950 cost= 0.76377064\n",
      "step= 960 cost= 0.76265746\n",
      "step= 970 cost= 0.76148456\n",
      "step= 980 cost= 0.7603946\n",
      "step= 990 cost= 0.7592461\n",
      "step= 1000 cost= 0.7581787\n"
     ]
    }
   ],
   "source": [
    "for step in range(1000):\n",
    "    sess.run(train_op, feed_dict={X:x_data, Y:y_data})\n",
    "    if (step+1) % 10 == 0:\n",
    "        print(\"step=\", step+1, \"cost=\", sess.run(cost, feed_dict={X:x_data, Y:y_data}))"
   ]
  },
  {
   "cell_type": "code",
   "execution_count": 15,
   "metadata": {
    "ExecuteTime": {
     "end_time": "2019-01-03T05:19:16.756048Z",
     "start_time": "2019-01-03T05:19:16.665052Z"
    }
   },
   "outputs": [
    {
     "name": "stdout",
     "output_type": "stream",
     "text": [
      "예측값= [1 1 2 1 1 2]\n",
      "실제값= [0 1 2 0 0 2]\n",
      "정확도: 50.00\n"
     ]
    }
   ],
   "source": [
    "prediction = tf.argmax(model, 1)\n",
    "target = tf.argmax(Y, 1)\n",
    "print('예측값=', sess.run(prediction, feed_dict={X:x_data}))\n",
    "print('실제값=', sess.run(target, feed_dict={Y:y_data}))\n",
    "\n",
    "is_correct = tf.equal(prediction, target)\n",
    "accuracy = tf.reduce_mean(tf.cast(is_correct, tf.float32))  ## 정확도\n",
    "print('정확도: %.2f' % sess.run(accuracy * 100, feed_dict={X:x_data, Y:y_data}))\n",
    "\n",
    "# 예측값= [1 1 2 1 1 2]\n",
    "# 실제값= [0 1 2 0 0 2]\n",
    "# 정확도: 50.00\n",
    "\n",
    "# 정확도가 높지 않은 이유는 한 층이어서!!!\n",
    "sess.close()"
   ]
  },
  {
   "cell_type": "code",
   "execution_count": 18,
   "metadata": {
    "ExecuteTime": {
     "end_time": "2019-01-03T05:30:18.723118Z",
     "start_time": "2019-01-03T05:30:17.953122Z"
    }
   },
   "outputs": [],
   "source": [
    "x_data = np.array([ [0,0], [1,0], [1,1], [0,0], [0,0], [0,1] ]) ## [털, 날개]\n",
    "y_data = np.array([ [1,0,0], [0,1,0], [0,0,1], [1,0,0], [1,0,0], [0,0,1] ])  ## [기타, 포유류, 조류]\n",
    "X = tf.placeholder(tf.float32)\n",
    "Y = tf.placeholder(tf.float32)\n",
    "W1 = tf.Variable(tf.random_uniform([2,10], -1.0, 1.0))\n",
    "W2 = tf.Variable(tf.random_uniform([10,3], -1.0, 1.0))\n",
    "b1 = tf.Variable(tf.zeros([10]))\n",
    "b2 = tf.Variable(tf.zeros([3]))\n",
    "L1 = tf.add(tf.matmul(X, W1), b1)\n",
    "L1 = tf.nn.relu(L1)\n",
    "model = tf.add(tf.matmul(L1, W2), b2)  # L2(레이어 2)로 생각하면 됨!\n",
    "cost = tf.reduce_mean(tf.nn.softmax_cross_entropy_with_logits_v2(labels=Y, logits=model))\n",
    "optimizer = tf.train.AdamOptimizer(learning_rate=0.01)\n",
    "train_op = optimizer.minimize(cost)\n",
    "## 훈련\n",
    "sess = tf.Session()\n",
    "sess.run(tf.global_variables_initializer())  ## 초기화\n",
    "for step in range(100):\n",
    "    sess.run(train_op, feed_dict={X:x_data, Y:y_data})\n",
    "    if (step+1) % 10 == 0:\n",
    "        print(\"step=\", step+1, \"cost=\", sess.run(cost, feed_dict={X:x_data, Y:y_data}))\n",
    "## 예측, 정확도\n",
    "prediction = tf.argmax(model, 1)\n",
    "target = tf.argmax(Y, 1)\n",
    "print('예측값=', sess.run(prediction, feed_dict={X:x_data}))\n",
    "print('실제값=', sess.run(target, feed_dict={Y:y_data}))\n",
    "is_correct = tf.equal(prediction, target)\n",
    "accuracy = tf.reduce_mean(tf.cast(is_correct, tf.float32))  ## 정확도\n",
    "print('정확도: %.2f' % sess.run(accuracy * 100, feed_dict={X:x_data, Y:y_data}))\n",
    "# 정확도: 100.00 성공!!!\n",
    "sess.close() "
   ]
  },
  {
   "cell_type": "code",
   "execution_count": null,
   "metadata": {},
   "outputs": [],
   "source": []
  }
 ],
 "metadata": {
  "kernelspec": {
   "display_name": "Python 3",
   "language": "python",
   "name": "python3"
  },
  "language_info": {
   "codemirror_mode": {
    "name": "ipython",
    "version": 3
   },
   "file_extension": ".py",
   "mimetype": "text/x-python",
   "name": "python",
   "nbconvert_exporter": "python",
   "pygments_lexer": "ipython3",
   "version": "3.6.7"
  },
  "varInspector": {
   "cols": {
    "lenName": 16,
    "lenType": 16,
    "lenVar": 40
   },
   "kernels_config": {
    "python": {
     "delete_cmd_postfix": "",
     "delete_cmd_prefix": "del ",
     "library": "var_list.py",
     "varRefreshCmd": "print(var_dic_list())"
    },
    "r": {
     "delete_cmd_postfix": ") ",
     "delete_cmd_prefix": "rm(",
     "library": "var_list.r",
     "varRefreshCmd": "cat(var_dic_list()) "
    }
   },
   "types_to_exclude": [
    "module",
    "function",
    "builtin_function_or_method",
    "instance",
    "_Feature"
   ],
   "window_display": false
  }
 },
 "nbformat": 4,
 "nbformat_minor": 2
}
